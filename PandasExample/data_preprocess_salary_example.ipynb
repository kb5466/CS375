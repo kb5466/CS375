{
 "cells": [
  {
   "cell_type": "code",
   "execution_count": 1,
   "metadata": {
    "colab": {
     "base_uri": "https://localhost:8080/"
    },
    "executionInfo": {
     "elapsed": 2228,
     "status": "ok",
     "timestamp": 1726172545147,
     "user": {
      "displayName": "Yajuan LI",
      "userId": "07949580397633847884"
     },
     "user_tz": 240
    },
    "id": "iJQije8j5mlo",
    "outputId": "0f2eb7f4-b84d-4a32-98c6-e42b8bb07ff1",
    "scrolled": true
   },
   "outputs": [
    {
     "name": "stdout",
     "output_type": "stream",
     "text": [
      "     Age   Salary  Tenure\n",
      "0   18.0  78600.0     6.0\n",
      "4   27.0  62230.0    19.0\n",
      "6   39.0  36921.0    18.0\n",
      "7   54.0  68804.0    15.0\n",
      "9   24.0  67619.0     1.0\n",
      "10  38.0  98755.0     9.0\n",
      "11  34.0  82489.0    18.0\n",
      "12  23.0  71504.0    16.0\n",
      "13  33.0  79866.0     5.0\n",
      "14  18.0  41723.0    10.0\n",
      "15  36.0  73890.0    11.0\n",
      "16  53.0  47591.0     2.0\n",
      "17  42.0  88146.0     2.0\n"
     ]
    }
   ],
   "source": [
    "from sklearn.preprocessing import MinMaxScaler\n",
    "from sklearn.preprocessing import StandardScaler\n",
    "import pandas as pd\n",
    "\n",
    "# save your dataset into dataframe salary_df\n",
    "salary_df = pd.DataFrame({\n",
    "    'Age': [18.0, None, None, 57.0, 27.0, 37.0, 39.0, 54.0, None, 24.0, 38.0, 34.0, 23.0, 33.0, 18.0, 36.0, 53.0, 42.0, None, None],\n",
    "    'Salary': [78600.0, None, 82620.0, None, 62230.0, None, 36921.0, 68804.0, None, 67619.0, 98755.0, 82489.0, 71504.0, 79866.0, 41723.0, 73890.0, 47591.0, 88146.0, None, None],\n",
    "    'Tenure': [6.0, None, None, None, 19.0, 4.0, 18.0, 15.0, None, 1.0, 9.0, 18.0, 16.0, 5.0, 10.0, 11.0, 2.0, 2.0, None, None]\n",
    "})\n",
    "\n",
    "# Removing missing values from the dataset\n",
    "cleaned_df = salary_df.dropna()\n",
    "print(cleaned_df)\n",
    "# Applying Min-Max Scaling\n",
    "scaler = MinMaxScaler()\n",
    "scaled_data = scaler.fit_transform(cleaned_df)\n",
    "\n",
    "# Creating a DataFrame for the scaled data\n",
    "scaled_df = pd.DataFrame(scaled_data, columns=cleaned_df.columns)\n",
    "\n",
    "# Displaying the scaled DataFrame\n",
    "#print(scaled_df)\n"
   ]
  },
  {
   "cell_type": "markdown",
   "metadata": {
    "id": "k-gZW9Do5mlq"
   },
   "source": [
    "Key steps:\n",
    "\n",
    "Removes rows with missing values using dropna().\n",
    "\n",
    "Applies Min-Max Scaling to the cleaned data using MinMaxScaler from sklearn.preprocessing.\n",
    "\n",
    "Creates a new DataFrame (scaled_df) containing the scaled data.\n",
    "\n",
    "The resulting scaled_df will have features (Age, Salary, and Tenure) scaled to a range between 0 and 1, with missing values removed.\n",
    "\n",
    "This process makes the data suitable for use in machine learning algorithms sensitive to the scale of input features. ​"
   ]
  }
 ],
 "metadata": {
  "colab": {
   "provenance": []
  },
  "kernelspec": {
   "display_name": "Python 3 (ipykernel)",
   "language": "python",
   "name": "python3"
  },
  "language_info": {
   "codemirror_mode": {
    "name": "ipython",
    "version": 3
   },
   "file_extension": ".py",
   "mimetype": "text/x-python",
   "name": "python",
   "nbconvert_exporter": "python",
   "pygments_lexer": "ipython3",
   "version": "3.9.17"
  }
 },
 "nbformat": 4,
 "nbformat_minor": 1
}
