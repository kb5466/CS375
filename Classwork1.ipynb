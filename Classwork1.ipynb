{
 "cells": [
  {
   "cell_type": "markdown",
   "metadata": {
    "id": "uV57hWEN75xE"
   },
   "source": [
    "**Objective**:\n",
    "The goal of this classwork is to provide hands-on experience in data preprocessing, specifically focusing on handling missing values and applying feature scaling techniques. Students will learn how to clean and prepare data for machine learning models by working with a provided dataset.\n",
    "\n",
    "Required: Print your result clearly after finishing each small task for grader to check.\n",
    "\n",
    "**Submission: One HTML file, must show your code and output in the file clearly.**\n",
    "\n",
    "\n",
    "**Handling Missing Values**:\n",
    "\n",
    "Task 1.1: Detect missing values in the dataset and count the number of missing values in each column.\n",
    "\n",
    "Task 1.2: Handle missing values in the dataset:\n",
    "Use fill by mean for numerical columns (Age, Income, Experience, Score).\n",
    "Drop rows with missing values in non-numerical columns (Name, City).\n",
    "\n",
    "\n",
    "**Feature Scaling**:\n",
    "\n",
    "Task 2.1: Apply Min-Max Scaling to the columns Age, Income, Experience, and Score.\n",
    "\n",
    "Task 2.2: Apply Standardization (Z-score) to the same columns.\n",
    "\n",
    "Task 2.3: Apply Robust Scaling to the same columns.\n",
    "\n",
    "\n",
    "**Dataset for Classwork**\n",
    "\n",
    "Here’s the dataset for this classwork."
   ]
  },
  {
   "cell_type": "code",
   "execution_count": 50,
   "metadata": {
    "colab": {
     "base_uri": "https://localhost:8080/"
    },
    "id": "D6TQn9Qj74u0",
    "outputId": "c9493117-cee9-4155-deea-13e01935128b",
    "scrolled": true
   },
   "outputs": [
    {
     "name": "stdout",
     "output_type": "stream",
     "text": [
      "Sample Data for Classwork:\n",
      "       Name   Age   Income  Experience  Score           City\n",
      "0    Alice  25.0  50000.0         1.0   85.0       New York\n",
      "1      Bob  30.0  60000.0         3.0    NaN  San Francisco\n",
      "2  Charlie   NaN  75000.0         5.0   78.0    Los Angeles\n",
      "3    David  35.0      NaN         7.0   95.0        Chicago\n",
      "4     Emma  28.0  52000.0         NaN   89.0         Boston\n",
      "5    Frank  40.0  82000.0        12.0  100.0         Austin\n",
      "6    Grace   NaN  92000.0        15.0   60.0         Dallas\n",
      "7    Helen  50.0      NaN        20.0   70.0            NaN\n"
     ]
    }
   ],
   "source": [
    "import pandas as pd\n",
    "import numpy as np\n",
    "from sklearn.preprocessing import MinMaxScaler, StandardScaler, RobustScaler\n",
    "\n",
    "# Creating a sample dataset\n",
    "data = {\n",
    "    'Name': ['Alice', 'Bob', 'Charlie', 'David', 'Emma', 'Frank', 'Grace', 'Helen'],\n",
    "    'Age': [25, 30, np.nan, 35, 28, 40, np.nan, 50],\n",
    "    'Income': [50000, 60000, 75000, np.nan, 52000, 82000, 92000, np.nan],\n",
    "    'Experience': [1, 3, 5, 7, np.nan, 12, 15, 20],\n",
    "    'Score': [85, np.nan, 78, 95, 89, 100, 60, 70],\n",
    "    'City': ['New York', 'San Francisco', 'Los Angeles', 'Chicago', 'Boston', 'Austin', 'Dallas', np.nan]\n",
    "}\n",
    "\n",
    "# Converting to DataFrame\n",
    "df = pd.DataFrame(data)\n",
    "print(\"Sample Data for Classwork:\\n\", df)\n",
    "\n"
   ]
  },
  {
   "cell_type": "code",
   "execution_count": 51,
   "metadata": {
    "scrolled": true
   },
   "outputs": [
    {
     "name": "stdout",
     "output_type": "stream",
     "text": [
      "Missing Value count:\n",
      " Name          0\n",
      "Age           2\n",
      "Income        2\n",
      "Experience    1\n",
      "Score         1\n",
      "City          1\n",
      "dtype: int64\n"
     ]
    }
   ],
   "source": [
    "#Task 1.1: Detect missing values in the dataset and count the number of missing values in each column.\n",
    "missingVal = df.isnull()\n",
    "missingVal\n",
    "\n",
    "missingCount = df.isnull().sum()\n",
    "print(\"Missing Value count:\\n\",missingCount)"
   ]
  },
  {
   "cell_type": "code",
   "execution_count": 52,
   "metadata": {},
   "outputs": [
    {
     "data": {
      "text/html": [
       "<div>\n",
       "<style scoped>\n",
       "    .dataframe tbody tr th:only-of-type {\n",
       "        vertical-align: middle;\n",
       "    }\n",
       "\n",
       "    .dataframe tbody tr th {\n",
       "        vertical-align: top;\n",
       "    }\n",
       "\n",
       "    .dataframe thead th {\n",
       "        text-align: right;\n",
       "    }\n",
       "</style>\n",
       "<table border=\"1\" class=\"dataframe\">\n",
       "  <thead>\n",
       "    <tr style=\"text-align: right;\">\n",
       "      <th></th>\n",
       "      <th>Name</th>\n",
       "      <th>Age</th>\n",
       "      <th>Income</th>\n",
       "      <th>Experience</th>\n",
       "      <th>Score</th>\n",
       "      <th>City</th>\n",
       "    </tr>\n",
       "  </thead>\n",
       "  <tbody>\n",
       "    <tr>\n",
       "      <th>0</th>\n",
       "      <td>Alice</td>\n",
       "      <td>25.000000</td>\n",
       "      <td>50000.0</td>\n",
       "      <td>1.0</td>\n",
       "      <td>85.000000</td>\n",
       "      <td>New York</td>\n",
       "    </tr>\n",
       "    <tr>\n",
       "      <th>1</th>\n",
       "      <td>Bob</td>\n",
       "      <td>30.000000</td>\n",
       "      <td>60000.0</td>\n",
       "      <td>3.0</td>\n",
       "      <td>82.428571</td>\n",
       "      <td>San Francisco</td>\n",
       "    </tr>\n",
       "    <tr>\n",
       "      <th>2</th>\n",
       "      <td>Charlie</td>\n",
       "      <td>34.666667</td>\n",
       "      <td>75000.0</td>\n",
       "      <td>5.0</td>\n",
       "      <td>78.000000</td>\n",
       "      <td>Los Angeles</td>\n",
       "    </tr>\n",
       "    <tr>\n",
       "      <th>3</th>\n",
       "      <td>David</td>\n",
       "      <td>35.000000</td>\n",
       "      <td>68500.0</td>\n",
       "      <td>7.0</td>\n",
       "      <td>95.000000</td>\n",
       "      <td>Chicago</td>\n",
       "    </tr>\n",
       "    <tr>\n",
       "      <th>4</th>\n",
       "      <td>Emma</td>\n",
       "      <td>28.000000</td>\n",
       "      <td>52000.0</td>\n",
       "      <td>9.0</td>\n",
       "      <td>89.000000</td>\n",
       "      <td>Boston</td>\n",
       "    </tr>\n",
       "    <tr>\n",
       "      <th>5</th>\n",
       "      <td>Frank</td>\n",
       "      <td>40.000000</td>\n",
       "      <td>82000.0</td>\n",
       "      <td>12.0</td>\n",
       "      <td>100.000000</td>\n",
       "      <td>Austin</td>\n",
       "    </tr>\n",
       "    <tr>\n",
       "      <th>6</th>\n",
       "      <td>Grace</td>\n",
       "      <td>34.666667</td>\n",
       "      <td>92000.0</td>\n",
       "      <td>15.0</td>\n",
       "      <td>60.000000</td>\n",
       "      <td>Dallas</td>\n",
       "    </tr>\n",
       "  </tbody>\n",
       "</table>\n",
       "</div>"
      ],
      "text/plain": [
       "      Name        Age   Income  Experience       Score           City\n",
       "0    Alice  25.000000  50000.0         1.0   85.000000       New York\n",
       "1      Bob  30.000000  60000.0         3.0   82.428571  San Francisco\n",
       "2  Charlie  34.666667  75000.0         5.0   78.000000    Los Angeles\n",
       "3    David  35.000000  68500.0         7.0   95.000000        Chicago\n",
       "4     Emma  28.000000  52000.0         9.0   89.000000         Boston\n",
       "5    Frank  40.000000  82000.0        12.0  100.000000         Austin\n",
       "6    Grace  34.666667  92000.0        15.0   60.000000         Dallas"
      ]
     },
     "execution_count": 52,
     "metadata": {},
     "output_type": "execute_result"
    }
   ],
   "source": [
    "#Task 1.2: Handle missing values in the dataset:\n",
    "#Use fill by mean for numerical columns (Age, Income, Experience, Score)\n",
    "# Drop rows with missing values in non-numerical columns (Name, City).\n",
    "\n",
    "meanFilled = df.fillna(df.mean(numeric_only=True))\n",
    "meanFilled = meanFilled.dropna()\n",
    "meanFilled"
   ]
  },
  {
   "cell_type": "code",
   "execution_count": 65,
   "metadata": {},
   "outputs": [
    {
     "name": "stdout",
     "output_type": "stream",
     "text": [
      "  Name_MinMax  Age_MinMax  Income_MinMax  Experience_MinMax  Score_MinMax  \\\n",
      "0       Alice    0.000000       0.000000           0.000000      0.625000   \n",
      "1         Bob    0.333333       0.238095           0.142857      0.560714   \n",
      "2     Charlie    0.644444       0.595238           0.285714      0.450000   \n",
      "3       David    0.666667       0.440476           0.428571      0.875000   \n",
      "4        Emma    0.200000       0.047619           0.571429      0.725000   \n",
      "5       Frank    1.000000       0.761905           0.785714      1.000000   \n",
      "6       Grace    0.644444       1.000000           1.000000      0.000000   \n",
      "\n",
      "     City_MinMax  \n",
      "0       New York  \n",
      "1  San Francisco  \n",
      "2    Los Angeles  \n",
      "3        Chicago  \n",
      "4         Boston  \n",
      "5         Austin  \n",
      "6         Dallas  \n"
     ]
    }
   ],
   "source": [
    "#Task 2.1: Apply Min-Max Scaling to the columns Age, Income, Experience, and Score.\n",
    "meanFilled\n",
    "# Initializing the scalers\n",
    "minmax_scaler = MinMaxScaler()\n",
    "\n",
    "# Applying Min-Max Scaling\n",
    "cols = ['Age', 'Income', 'Experience', 'Score']\n",
    "df_minmax_scaled = meanFilled.copy()\n",
    "df_minmax_scaled[cols] = pd.DataFrame(minmax_scaler.fit_transform(df_minmax_scaled[cols]))\n",
    "df_minmax_scaled.columns = [f\"{col}_MinMax\" for col in df_minmax_scaled.columns]\n",
    "print(df_minmax_scaled)"
   ]
  },
  {
   "cell_type": "code",
   "execution_count": 68,
   "metadata": {},
   "outputs": [
    {
     "name": "stdout",
     "output_type": "stream",
     "text": [
      "  Name_Standardized  Age_Standardized  Income_Standardized  \\\n",
      "0             Alice         -1.590654            -1.279453   \n",
      "1               Bob         -0.526841            -0.587857   \n",
      "2           Charlie          0.466051             0.449538   \n",
      "3             David          0.536972             0.000000   \n",
      "4              Emma         -0.952366            -1.141134   \n",
      "5             Frank          1.600785             0.933655   \n",
      "6             Grace          0.466051             1.625251   \n",
      "\n",
      "   Experience_Standardized  Score_Standardized City_Standardized  \n",
      "0                -1.399433            0.066027          New York  \n",
      "1                -0.964054           -0.147290     San Francisco  \n",
      "2                -0.528675           -0.514669       Los Angeles  \n",
      "3                -0.093296            0.895592           Chicago  \n",
      "4                 0.342084            0.397853            Boston  \n",
      "5                 0.995153            1.310375            Austin  \n",
      "6                 1.648222           -2.007887            Dallas  \n"
     ]
    }
   ],
   "source": [
    "#Task 2.2: Apply Standardization (Z-score) to the same columns.\n",
    "meanFilled\n",
    "# Initializing the scalers\n",
    "standard_scaler = StandardScaler()\n",
    "\n",
    "\n",
    "# Applying Min-Max Scaling\n",
    "cols = ['Age', 'Income', 'Experience', 'Score']\n",
    "df_standard_scaled = meanFilled.copy()\n",
    "df_standard_scaled[cols] = pd.DataFrame(standard_scaler.fit_transform(df_standard_scaled[cols]))\n",
    "df_standard_scaled.columns = [f\"{col}_Standardized\" for col in df_standard_scaled.columns]\n",
    "\n",
    "print(df_standard_scaled)"
   ]
  },
  {
   "cell_type": "code",
   "execution_count": 69,
   "metadata": {},
   "outputs": [
    {
     "name": "stdout",
     "output_type": "stream",
     "text": [
      "  Name_Robust  Age_Robust  Income_Robust  Experience_Robust  Score_Robust  \\\n",
      "0       Alice   -1.657143      -0.822222          -0.923077      0.000000   \n",
      "1         Bob   -0.800000      -0.377778          -0.615385     -0.218182   \n",
      "2     Charlie    0.000000       0.288889          -0.307692     -0.593939   \n",
      "3       David    0.057143       0.000000           0.000000      0.848485   \n",
      "4        Emma   -1.142857      -0.733333           0.307692      0.339394   \n",
      "5       Frank    0.914286       0.600000           0.769231      1.272727   \n",
      "6       Grace    0.000000       1.044444           1.230769     -2.121212   \n",
      "\n",
      "     City_Robust  \n",
      "0       New York  \n",
      "1  San Francisco  \n",
      "2    Los Angeles  \n",
      "3        Chicago  \n",
      "4         Boston  \n",
      "5         Austin  \n",
      "6         Dallas  \n"
     ]
    }
   ],
   "source": [
    "#Task 2.3: Apply Robust Scaling to the same columns.\n",
    "\n",
    "robust_scaler = RobustScaler()\n",
    "cols = ['Age', 'Income', 'Experience', 'Score']\n",
    "df_robust_scaled = meanFilled.copy()\n",
    "df_robust_scaled[cols] = pd.DataFrame(robust_scaler.fit_transform(df_robust_scaled[cols]))\n",
    "df_robust_scaled.columns = [f\"{col}_Robust\" for col in df_robust_scaled.columns]\n",
    "\n",
    "print(df_robust_scaled)"
   ]
  },
  {
   "cell_type": "code",
   "execution_count": null,
   "metadata": {},
   "outputs": [],
   "source": []
  }
 ],
 "metadata": {
  "colab": {
   "provenance": []
  },
  "kernelspec": {
   "display_name": "Python 3 (ipykernel)",
   "language": "python",
   "name": "python3"
  },
  "language_info": {
   "codemirror_mode": {
    "name": "ipython",
    "version": 3
   },
   "file_extension": ".py",
   "mimetype": "text/x-python",
   "name": "python",
   "nbconvert_exporter": "python",
   "pygments_lexer": "ipython3",
   "version": "3.9.17"
  }
 },
 "nbformat": 4,
 "nbformat_minor": 1
}
