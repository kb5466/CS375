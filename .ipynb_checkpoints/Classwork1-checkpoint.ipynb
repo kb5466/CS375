{
 "cells": [
  {
   "cell_type": "markdown",
   "metadata": {
    "id": "uV57hWEN75xE"
   },
   "source": [
    "**Objective**:\n",
    "The goal of this classwork is to provide hands-on experience in data preprocessing, specifically focusing on handling missing values and applying feature scaling techniques. Students will learn how to clean and prepare data for machine learning models by working with a provided dataset.\n",
    "\n",
    "Required: Print your result clearly after finishing each small task for grader to check.\n",
    "\n",
    "**Submission: One HTML file, must show your code and output in the file clearly.**\n",
    "\n",
    "\n",
    "**Handling Missing Values**:\n",
    "\n",
    "Task 1.1: Detect missing values in the dataset and count the number of missing values in each column.\n",
    "\n",
    "Task 1.2: Handle missing values in the dataset:\n",
    "Use fill by mean for numerical columns (Age, Income, Experience, Score).\n",
    "Drop rows with missing values in non-numerical columns (Name, City).\n",
    "\n",
    "\n",
    "**Feature Scaling**:\n",
    "\n",
    "Task 2.1: Apply Min-Max Scaling to the columns Age, Income, Experience, and Score.\n",
    "\n",
    "Task 2.2: Apply Standardization (Z-score) to the same columns.\n",
    "\n",
    "Task 2.3: Apply Robust Scaling to the same columns.\n",
    "\n",
    "\n",
    "**Dataset for Classwork**\n",
    "\n",
    "Here’s the dataset for this classwork."
   ]
  },
  {
   "cell_type": "code",
   "execution_count": 2,
   "metadata": {
    "colab": {
     "base_uri": "https://localhost:8080/"
    },
    "id": "D6TQn9Qj74u0",
    "outputId": "c9493117-cee9-4155-deea-13e01935128b",
    "scrolled": true
   },
   "outputs": [
    {
     "name": "stdout",
     "output_type": "stream",
     "text": [
      "Sample Data for Classwork:\n",
      "       Name   Age   Income  Experience  Score           City\n",
      "0    Alice  25.0  50000.0         1.0   85.0       New York\n",
      "1      Bob  30.0  60000.0         3.0    NaN  San Francisco\n",
      "2  Charlie   NaN  75000.0         5.0   78.0    Los Angeles\n",
      "3    David  35.0      NaN         7.0   95.0        Chicago\n",
      "4     Emma  28.0  52000.0         NaN   89.0         Boston\n",
      "5    Frank  40.0  82000.0        12.0  100.0         Austin\n",
      "6    Grace   NaN  92000.0        15.0   60.0         Dallas\n",
      "7    Helen  50.0      NaN        20.0   70.0            NaN\n"
     ]
    }
   ],
   "source": [
    "import pandas as pd\n",
    "import numpy as np\n",
    "\n",
    "# Creating a sample dataset\n",
    "data = {\n",
    "    'Name': ['Alice', 'Bob', 'Charlie', 'David', 'Emma', 'Frank', 'Grace', 'Helen'],\n",
    "    'Age': [25, 30, np.nan, 35, 28, 40, np.nan, 50],\n",
    "    'Income': [50000, 60000, 75000, np.nan, 52000, 82000, 92000, np.nan],\n",
    "    'Experience': [1, 3, 5, 7, np.nan, 12, 15, 20],\n",
    "    'Score': [85, np.nan, 78, 95, 89, 100, 60, 70],\n",
    "    'City': ['New York', 'San Francisco', 'Los Angeles', 'Chicago', 'Boston', 'Austin', 'Dallas', np.nan]\n",
    "}\n",
    "\n",
    "# Converting to DataFrame\n",
    "df = pd.DataFrame(data)\n",
    "print(\"Sample Data for Classwork:\\n\", df)\n",
    "\n"
   ]
  },
  {
   "cell_type": "code",
   "execution_count": 8,
   "metadata": {
    "scrolled": true
   },
   "outputs": [
    {
     "name": "stdout",
     "output_type": "stream",
     "text": [
      "Missing Value count:\n",
      " Name          0\n",
      "Age           2\n",
      "Income        2\n",
      "Experience    1\n",
      "Score         1\n",
      "City          1\n",
      "dtype: int64\n"
     ]
    }
   ],
   "source": [
    "#Task 1.1: Detect missing values in the dataset and count the number of missing values in each column.\n",
    "missingVal = df.isnull()\n",
    "missingVal\n",
    "\n",
    "missingCount = df.isnull().sum()\n",
    "print(\"Missing Value count:\\n\",missingCount)"
   ]
  },
  {
   "cell_type": "code",
   "execution_count": null,
   "metadata": {},
   "outputs": [],
   "source": []
  }
 ],
 "metadata": {
  "colab": {
   "provenance": []
  },
  "kernelspec": {
   "display_name": "Python 3 (ipykernel)",
   "language": "python",
   "name": "python3"
  },
  "language_info": {
   "codemirror_mode": {
    "name": "ipython",
    "version": 3
   },
   "file_extension": ".py",
   "mimetype": "text/x-python",
   "name": "python",
   "nbconvert_exporter": "python",
   "pygments_lexer": "ipython3",
   "version": "3.9.17"
  }
 },
 "nbformat": 4,
 "nbformat_minor": 1
}
