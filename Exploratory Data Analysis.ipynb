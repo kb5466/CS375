{
 "cells": [
  {
   "cell_type": "markdown",
   "metadata": {
    "id": "eS5FAiLro1TF"
   },
   "source": [
    "# What is Exploratory Data Analysis?"
   ]
  },
  {
   "cell_type": "markdown",
   "metadata": {
    "id": "W3IadXvfqi_6"
   },
   "source": [
    "Exploratory Data Analysis (EDA) is a step in the data analysis process that involves the initial investigation and visualization of a dataset to discover patterns, spot anomalies, and generally, gain insights into the underlying structure of the data.\n",
    "\n",
    "Key aspects of Exploratory Data Analysis include:\n",
    "\n",
    "1. **Descriptive Statistics:**\n",
    "   - Descriptive statistics summarizes and describes essential features of a dataset, providing a clear and concise overview of the main characteristics.\n",
    "\n",
    "2. **Data Visualization:**\n",
    "   - Visualization techniques are used to represent the data graphically to understand the distribution of the data and identify patterns, trends, and potential relationships between variables.\n",
    "\n",
    "3. **Outlier Analysis:**\n",
    "   - Identification and examination of outliers that may significantly impact the analysis or provide valuable insights into the data.\n",
    "\n",
    "4. **Analyzing Relationships:**\n",
    "   - Examining relationships between variables by conducting statistical tests and utilizing metrics that quantify the strength of these relationships. This process entails a deep understanding of how changes in one variable correspond to changes in another, contributing to a comprehensive exploration of inter-variable dynamics."
   ]
  },
  {
   "cell_type": "markdown",
   "metadata": {
    "id": "8KdoYl6roxFR"
   },
   "source": [
    "# Descriptive Statistics"
   ]
  },
  {
   "cell_type": "markdown",
   "metadata": {
    "id": "BfSh42MIK3Kc"
   },
   "source": [
    "The `describe()` function in the Pandas library in Python is a powerful tool for obtaining descriptive statistics of both numerical and categorical variables in a DataFrame.\n",
    "\n",
    "- The output for numerical variables will include the count, mean, standard deviation, minimum, 25th percentile (Q1), median (50th percentile or Q2), 75th percentile (Q3), and maximum.\n",
    "\n",
    "- The output for categorical variables will include the count, unique values, top (most frequent value), and frequency of the top value."
   ]
  },
  {
   "cell_type": "code",
   "execution_count": 1,
   "metadata": {
    "colab": {
     "base_uri": "https://localhost:8080/",
     "height": 206
    },
    "executionInfo": {
     "elapsed": 1307,
     "status": "ok",
     "timestamp": 1704259444104,
     "user": {
      "displayName": "Akm Islam",
      "userId": "10887598172150809320"
     },
     "user_tz": 300
    },
    "id": "m-wBDyhNqjiD",
    "outputId": "23476006-66fd-42d2-97f1-58e62fea1090"
   },
   "outputs": [
    {
     "data": {
      "text/html": [
       "<div>\n",
       "<style scoped>\n",
       "    .dataframe tbody tr th:only-of-type {\n",
       "        vertical-align: middle;\n",
       "    }\n",
       "\n",
       "    .dataframe tbody tr th {\n",
       "        vertical-align: top;\n",
       "    }\n",
       "\n",
       "    .dataframe thead th {\n",
       "        text-align: right;\n",
       "    }\n",
       "</style>\n",
       "<table border=\"1\" class=\"dataframe\">\n",
       "  <thead>\n",
       "    <tr style=\"text-align: right;\">\n",
       "      <th></th>\n",
       "      <th>total_bill</th>\n",
       "      <th>tip</th>\n",
       "      <th>sex</th>\n",
       "      <th>smoker</th>\n",
       "      <th>day</th>\n",
       "      <th>time</th>\n",
       "      <th>size</th>\n",
       "    </tr>\n",
       "  </thead>\n",
       "  <tbody>\n",
       "    <tr>\n",
       "      <th>0</th>\n",
       "      <td>16.99</td>\n",
       "      <td>1.01</td>\n",
       "      <td>Female</td>\n",
       "      <td>No</td>\n",
       "      <td>Sun</td>\n",
       "      <td>Dinner</td>\n",
       "      <td>two</td>\n",
       "    </tr>\n",
       "    <tr>\n",
       "      <th>1</th>\n",
       "      <td>10.34</td>\n",
       "      <td>1.66</td>\n",
       "      <td>Male</td>\n",
       "      <td>No</td>\n",
       "      <td>Sun</td>\n",
       "      <td>Dinner</td>\n",
       "      <td>three</td>\n",
       "    </tr>\n",
       "    <tr>\n",
       "      <th>2</th>\n",
       "      <td>21.01</td>\n",
       "      <td>3.50</td>\n",
       "      <td>Male</td>\n",
       "      <td>No</td>\n",
       "      <td>Sun</td>\n",
       "      <td>Dinner</td>\n",
       "      <td>three</td>\n",
       "    </tr>\n",
       "    <tr>\n",
       "      <th>3</th>\n",
       "      <td>23.68</td>\n",
       "      <td>3.31</td>\n",
       "      <td>Male</td>\n",
       "      <td>No</td>\n",
       "      <td>Sun</td>\n",
       "      <td>Dinner</td>\n",
       "      <td>two</td>\n",
       "    </tr>\n",
       "    <tr>\n",
       "      <th>4</th>\n",
       "      <td>24.59</td>\n",
       "      <td>3.61</td>\n",
       "      <td>Female</td>\n",
       "      <td>No</td>\n",
       "      <td>Sun</td>\n",
       "      <td>Dinner</td>\n",
       "      <td>four</td>\n",
       "    </tr>\n",
       "  </tbody>\n",
       "</table>\n",
       "</div>"
      ],
      "text/plain": [
       "   total_bill   tip     sex smoker  day    time   size\n",
       "0       16.99  1.01  Female     No  Sun  Dinner    two\n",
       "1       10.34  1.66    Male     No  Sun  Dinner  three\n",
       "2       21.01  3.50    Male     No  Sun  Dinner  three\n",
       "3       23.68  3.31    Male     No  Sun  Dinner    two\n",
       "4       24.59  3.61  Female     No  Sun  Dinner   four"
      ]
     },
     "execution_count": 1,
     "metadata": {},
     "output_type": "execute_result"
    }
   ],
   "source": [
    "import pandas as pd\n",
    "url = 'https://drive.google.com/file/d/19aYZVyCsbKp0UEQl8QQagKyHFmromwQg/view?usp=sharing'\n",
    "path = 'https://drive.google.com/uc?export=download&id='+url.split('/')[-2]\n",
    "df = pd.read_csv(path)\n",
    "df.head()"
   ]
  },
  {
   "cell_type": "code",
   "execution_count": 3,
   "metadata": {
    "colab": {
     "base_uri": "https://localhost:8080/",
     "height": 300
    },
    "executionInfo": {
     "elapsed": 15,
     "status": "ok",
     "timestamp": 1704259444105,
     "user": {
      "displayName": "Akm Islam",
      "userId": "10887598172150809320"
     },
     "user_tz": 300
    },
    "id": "Jyf3MB4BK0Bh",
    "outputId": "3d07442b-e6a5-4213-eb56-99c53e620791"
   },
   "outputs": [
    {
     "data": {
      "text/html": [
       "<div>\n",
       "<style scoped>\n",
       "    .dataframe tbody tr th:only-of-type {\n",
       "        vertical-align: middle;\n",
       "    }\n",
       "\n",
       "    .dataframe tbody tr th {\n",
       "        vertical-align: top;\n",
       "    }\n",
       "\n",
       "    .dataframe thead th {\n",
       "        text-align: right;\n",
       "    }\n",
       "</style>\n",
       "<table border=\"1\" class=\"dataframe\">\n",
       "  <thead>\n",
       "    <tr style=\"text-align: right;\">\n",
       "      <th></th>\n",
       "      <th>total_bill</th>\n",
       "      <th>tip</th>\n",
       "    </tr>\n",
       "  </thead>\n",
       "  <tbody>\n",
       "    <tr>\n",
       "      <th>count</th>\n",
       "      <td>241.000000</td>\n",
       "      <td>243.000000</td>\n",
       "    </tr>\n",
       "    <tr>\n",
       "      <th>mean</th>\n",
       "      <td>19.809419</td>\n",
       "      <td>2.998272</td>\n",
       "    </tr>\n",
       "    <tr>\n",
       "      <th>std</th>\n",
       "      <td>8.955254</td>\n",
       "      <td>1.386494</td>\n",
       "    </tr>\n",
       "    <tr>\n",
       "      <th>min</th>\n",
       "      <td>3.070000</td>\n",
       "      <td>1.000000</td>\n",
       "    </tr>\n",
       "    <tr>\n",
       "      <th>25%</th>\n",
       "      <td>13.280000</td>\n",
       "      <td>2.000000</td>\n",
       "    </tr>\n",
       "    <tr>\n",
       "      <th>50%</th>\n",
       "      <td>17.780000</td>\n",
       "      <td>2.880000</td>\n",
       "    </tr>\n",
       "    <tr>\n",
       "      <th>75%</th>\n",
       "      <td>24.270000</td>\n",
       "      <td>3.575000</td>\n",
       "    </tr>\n",
       "    <tr>\n",
       "      <th>max</th>\n",
       "      <td>50.810000</td>\n",
       "      <td>10.000000</td>\n",
       "    </tr>\n",
       "  </tbody>\n",
       "</table>\n",
       "</div>"
      ],
      "text/plain": [
       "       total_bill         tip\n",
       "count  241.000000  243.000000\n",
       "mean    19.809419    2.998272\n",
       "std      8.955254    1.386494\n",
       "min      3.070000    1.000000\n",
       "25%     13.280000    2.000000\n",
       "50%     17.780000    2.880000\n",
       "75%     24.270000    3.575000\n",
       "max     50.810000   10.000000"
      ]
     },
     "execution_count": 3,
     "metadata": {},
     "output_type": "execute_result"
    }
   ],
   "source": [
    "df.describe(include='number')"
   ]
  },
  {
   "cell_type": "code",
   "execution_count": null,
   "metadata": {
    "colab": {
     "base_uri": "https://localhost:8080/",
     "height": 175
    },
    "executionInfo": {
     "elapsed": 172,
     "status": "ok",
     "timestamp": 1704259444265,
     "user": {
      "displayName": "Akm Islam",
      "userId": "10887598172150809320"
     },
     "user_tz": 300
    },
    "id": "oLi2rQ6uK7qn",
    "outputId": "06e0e6a4-9c28-48c5-a97b-02f4ddcb4909"
   },
   "outputs": [
    {
     "data": {
      "text/html": [
       "<div>\n",
       "<style scoped>\n",
       "    .dataframe tbody tr th:only-of-type {\n",
       "        vertical-align: middle;\n",
       "    }\n",
       "\n",
       "    .dataframe tbody tr th {\n",
       "        vertical-align: top;\n",
       "    }\n",
       "\n",
       "    .dataframe thead th {\n",
       "        text-align: right;\n",
       "    }\n",
       "</style>\n",
       "<table border=\"1\" class=\"dataframe\">\n",
       "  <thead>\n",
       "    <tr style=\"text-align: right;\">\n",
       "      <th></th>\n",
       "      <th>sex</th>\n",
       "      <th>smoker</th>\n",
       "      <th>day</th>\n",
       "      <th>time</th>\n",
       "      <th>size</th>\n",
       "    </tr>\n",
       "  </thead>\n",
       "  <tbody>\n",
       "    <tr>\n",
       "      <th>count</th>\n",
       "      <td>243</td>\n",
       "      <td>243</td>\n",
       "      <td>241</td>\n",
       "      <td>243</td>\n",
       "      <td>243</td>\n",
       "    </tr>\n",
       "    <tr>\n",
       "      <th>unique</th>\n",
       "      <td>2</td>\n",
       "      <td>2</td>\n",
       "      <td>4</td>\n",
       "      <td>2</td>\n",
       "      <td>6</td>\n",
       "    </tr>\n",
       "    <tr>\n",
       "      <th>top</th>\n",
       "      <td>Male</td>\n",
       "      <td>No</td>\n",
       "      <td>Sat</td>\n",
       "      <td>Dinner</td>\n",
       "      <td>two</td>\n",
       "    </tr>\n",
       "    <tr>\n",
       "      <th>freq</th>\n",
       "      <td>156</td>\n",
       "      <td>150</td>\n",
       "      <td>86</td>\n",
       "      <td>175</td>\n",
       "      <td>156</td>\n",
       "    </tr>\n",
       "  </tbody>\n",
       "</table>\n",
       "</div>"
      ],
      "text/plain": [
       "         sex smoker  day    time size\n",
       "count    243    243  241     243  243\n",
       "unique     2      2    4       2    6\n",
       "top     Male     No  Sat  Dinner  two\n",
       "freq     156    150   86     175  156"
      ]
     },
     "execution_count": 3,
     "metadata": {},
     "output_type": "execute_result"
    }
   ],
   "source": [
    "df.describe(include='object')"
   ]
  },
  {
   "cell_type": "markdown",
   "metadata": {
    "id": "G4oSiNbMgVQl"
   },
   "source": [
    "# Data Visualization"
   ]
  },
  {
   "cell_type": "markdown",
   "metadata": {
    "id": "hDc8DYBnNkIc"
   },
   "source": [
    "While descriptive statistics offer a quantitative summary of data, data visualization enhances understanding, aids exploration, facilitates communication, and provides a more holistic perspective on the underlying patterns and trends within the data. The combination of descriptive statistics and visualization is a powerful approach for gaining comprehensive insights from data.\n",
    "\n",
    "Here are some reasons why data visualization is needed alongside descriptive statistics:\n",
    "\n",
    "1. **Enhanced Understanding:**\n",
    "   - Visualization provides a graphical representation of data, making it easier for individuals to grasp complex patterns, trends, and relationships. It adds a visual context that descriptive statistics alone may not convey as effectively.\n",
    "\n",
    "2. **Communication:**\n",
    "   - Visualizations are powerful tools for conveying insights to a diverse audience who may not be familiar with statistical terminology. Compelling visuals can make data-driven narratives more accessible and persuasive.\n",
    "\n",
    "4. **Comparisons and Contrasts:**\n",
    "   - Visualizations make it easy to compare multiple datasets or variables simultaneously. Side-by-side visual representations provide a quick way to identify differences or similarities, aiding in the decision-making process.\n",
    "\n",
    "4. **Storytelling:**\n",
    "   - Data visualizations enable the creation of compelling narratives. By combining descriptive statistics with visuals, analysts can tell a cohesive story about the data, leading to a more comprehensive and memorable understanding of the insights.\n",
    "\n",
    "5. **Interactive Exploration:**\n",
    "   - Interactive visualizations allow users to explore the data dynamically. Users can interact with charts, zoom in on specific data points, and filter information, fostering a more hands-on and engaging data exploration experience."
   ]
  },
  {
   "cell_type": "markdown",
   "metadata": {
    "id": "abeXjSdvhhFN"
   },
   "source": [
    "### Some common visualizations"
   ]
  },
  {
   "cell_type": "markdown",
   "metadata": {
    "id": "bAddbycuBFHm"
   },
   "source": [
    "#### Scatter Plot"
   ]
  },
  {
   "cell_type": "markdown",
   "metadata": {
    "id": "R7iZQYQXPKpD"
   },
   "source": [
    "A scatter plot is a type of data visualization that displays individual data points on a two-dimensional plane where each point on the plot represents the values of **two different variables**.\n",
    "\n",
    "Scatter plots are useful for examining the relationship between two continuous variables to identify patterns, trends, or correlations in the data.\n",
    "\n",
    "Key features of a scatter plot include:\n",
    "\n",
    "1. **X and Y Axes:** The x and y axis in a scatterplot represent one of the variables being measured.\n",
    "\n",
    "2. **Data Points:** Each data point in a scatterpolot correspond to a specific set of values for the two variables.\n",
    "\n",
    "3. **Markers:** Each data point is represented by a marker, such as a dot, circle, or other symbol, making it easier to distinguish and identify individual points."
   ]
  },
  {
   "cell_type": "code",
   "execution_count": null,
   "metadata": {
    "colab": {
     "base_uri": "https://localhost:8080/",
     "height": 472
    },
    "executionInfo": {
     "elapsed": 598,
     "status": "ok",
     "timestamp": 1704259444860,
     "user": {
      "displayName": "Akm Islam",
      "userId": "10887598172150809320"
     },
     "user_tz": 300
    },
    "id": "LxQ2SfJANl-R",
    "outputId": "1a0fd03e-935c-4a68-f007-790026f39fcb"
   },
   "outputs": [
    {
     "data": {
      "image/png": "[encoded data removed]",
      "text/plain": [
       "<Figure size 432x288 with 1 Axes>"
      ]
     },
     "metadata": {
      "needs_background": "light"
     },
     "output_type": "display_data"
    }
   ],
   "source": [
    "import matplotlib.pyplot as plt\n",
    "\n",
    "# Create a Figure and Axes object\n",
    "fig, ax = plt.subplots()\n",
    "\n",
    "# Plot the data as scatter points\n",
    "ax.scatter(df['total_bill'], df['tip'])\n",
    "ax.set_title(\"Total Bill vs Tip\")\n",
    "ax.set_xlabel(\"Total Bill\")\n",
    "ax.set_ylabel(\"Tip\")\n",
    "# Show the plot\n",
    "plt.show()"
   ]
  },
  {
   "cell_type": "markdown",
   "metadata": {
    "id": "BQTrN1SSQIZP"
   },
   "source": [
    "The scatterplot illustrates a discernible pattern: as the total bill increases, there is a corresponding increase in tips. This suggests a positive correlation between the two variables, indicating that customers tend to leave higher tips when their total bill is higher."
   ]
  },
  {
   "cell_type": "markdown",
   "metadata": {
    "id": "Eu2DcCwTBAmq"
   },
   "source": [
    "#### Bar Chart"
   ]
  },
  {
   "cell_type": "markdown",
   "metadata": {
    "id": "D1VMmQvQRU_s"
   },
   "source": [
    "A bar chart is a graphical representation of data using rectangular bars to show the **values of different categories**, making it easy to compare and visualize the distribution of the data.\n",
    "\n",
    "Key components of a bar chart include:\n",
    "\n",
    "1. **Categories or Groups:** The x-axis of the bar chart typically represents different categories or groups. Each category is associated with a bar.\n",
    "\n",
    "2. **Bars:** The y-axis of the bar chart represents the **values or counts** associated with each category.\n",
    "\n",
    "3. **Height of Bars:** The height of each bar indicates the quantity, frequency, or value of the data point associated with the category."
   ]
  },
  {
   "cell_type": "code",
   "execution_count": null,
   "metadata": {
    "colab": {
     "base_uri": "https://localhost:8080/",
     "height": 449
    },
    "executionInfo": {
     "elapsed": 230,
     "status": "ok",
     "timestamp": 1704259445256,
     "user": {
      "displayName": "Akm Islam",
      "userId": "10887598172150809320"
     },
     "user_tz": 300
    },
    "id": "O8SCtxrGPuoo",
    "outputId": "5f3e2825-d0ce-4d54-c921-4d2fbd4d6b85"
   },
   "outputs": [
    {
     "data": {
      "image/png": "[encoded data removed]",
      "text/plain": [
       "<Figure size 432x288 with 1 Axes>"
      ]
     },
     "metadata": {
      "needs_background": "light"
     },
     "output_type": "display_data"
    }
   ],
   "source": [
    "import matplotlib.pyplot as plt\n",
    "\n",
    "# Create a Figure and Axes object\n",
    "fig, ax = plt.subplots()\n",
    "\n",
    "average_tip_by_day=df.groupby('day')['tip'].mean()\n",
    "\n",
    "categories=average_tip_by_day.index\n",
    "\n",
    "values=average_tip_by_day.values\n",
    "\n",
    "# Plot the data as scatter points\n",
    "ax.bar(categories, values)\n",
    "ax.set_xlabel(\"Day\")\n",
    "ax.set_ylabel(\"Average Tips\")\n",
    "# Show the plot\n",
    "plt.show()"
   ]
  },
  {
   "cell_type": "markdown",
   "metadata": {
    "id": "bb_NkyFMS2s1"
   },
   "source": [
    "The bar chart provides insights into tipping patterns, indicating a distinct trend of higher average tips on Sundays compared to the remaining days of the week. Specifically, the average tip amount on Sundays is approximately $3."
   ]
  },
  {
   "cell_type": "markdown",
   "metadata": {
    "id": "0zKgsjfgA2Ro"
   },
   "source": [
    "#### Histogram"
   ]
  },
  {
   "cell_type": "markdown",
   "metadata": {
    "id": "Rf7YUv-VV9XZ"
   },
   "source": [
    "\n",
    "A histogram is a graphical representation of the distribution of a dataset. It displays the frequencies of observations within different intervals or bins. Histograms are commonly used to understand the **shape of the data distribution**, identify patterns, and detect outliers.\n",
    "\n",
    "Key components of a histogram include:\n",
    "\n",
    "1. **Bins:** The range of values in the dataset is divided into intervals called bins.\n",
    "\n",
    "2. **X-Axis:** The x-axis represents the bins or intervals of the data.\n",
    "\n",
    "3. **Y-Axis:** The y-axis represents the frequency or count of data points within each bin.\n",
    "\n",
    "4. **Bars:** Each bar in the histogram corresponds to a bin and represents the count or frequency of data points within that bin."
   ]
  },
  {
   "cell_type": "markdown",
   "metadata": {
    "id": "hhR0uIifAyid"
   },
   "source": [
    "Some Common Shapes of Data Distributions:"
   ]
  },
  {
   "cell_type": "markdown",
   "metadata": {
    "id": "IhveRFU4Zkmi"
   },
   "source": [
    "\n",
    "\n",
    "1. **Symmetric (Normal) Distribution:**\n",
    "   - In a symmetric distribution, the left and right sides of the histogram are mirror images of each other.\n",
    "   - The mean, median, and mode are approximately equal.\n",
    "\n",
    "2. **Skewed Right (Positively Skewed) Distribution:**\n",
    "   - The right tail of the histogram is longer or fatter than the left.\n",
    "   - The mean is greater than the median.\n",
    "\n",
    "3. **Skewed Left (Negatively Skewed) Distribution:**\n",
    "   - The left tail of the histogram is longer or fatter than the right.\n",
    "   - The mean is less than the median.\n",
    "4. **Uniform Distribution:**\n",
    "   - In a uniform distribution, all values or intervals have approximately the same frequency."
   ]
  },
  {
   "cell_type": "markdown",
   "metadata": {
    "id": "fVvEg9HiXTWO"
   },
   "source": [
    "![image.png](data:image/png;base64,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)\n",
    "\n",
    "Source: https://www.labxchange.org/library/items/lb:LabXchange:10d3270e:html:1"
   ]
  },
  {
   "cell_type": "code",
   "execution_count": null,
   "metadata": {
    "colab": {
     "base_uri": "https://localhost:8080/",
     "height": 472
    },
    "executionInfo": {
     "elapsed": 713,
     "status": "ok",
     "timestamp": 1704259445957,
     "user": {
      "displayName": "Akm Islam",
      "userId": "10887598172150809320"
     },
     "user_tz": 300
    },
    "id": "9tRJNOC4SCXa",
    "outputId": "b9bf2fd1-faa2-42cf-b45d-2fa83c77ed0e",
    "scrolled": true
   },
   "outputs": [
    {
     "data": {
      "image/png": "[encoded data removed]",
      "text/plain": [
       "<Figure size 432x288 with 1 Axes>"
      ]
     },
     "metadata": {
      "needs_background": "light"
     },
     "output_type": "display_data"
    }
   ],
   "source": [
    "# Create a Figure and Axes object\n",
    "fig, ax = plt.subplots()\n",
    "\n",
    "# Plot the data as a histogram\n",
    "ax.hist(df['tip'], bins=10, color='#F9BA2D', edgecolor='black')\n",
    "\n",
    "# Add title and labels\n",
    "ax.set_title('Histogram Example')\n",
    "ax.set_xlabel('Tip')\n",
    "ax.set_ylabel('Frequency')\n",
    "\n",
    "# Show the plot\n",
    "plt.show()\n"
   ]
  },
  {
   "cell_type": "markdown",
   "metadata": {
    "id": "kHzuym5WAumv"
   },
   "source": [
    "#### Box Plot"
   ]
  },
  {
   "cell_type": "code",
   "execution_count": null,
   "metadata": {
    "colab": {
     "base_uri": "https://localhost:8080/",
     "height": 430
    },
    "executionInfo": {
     "elapsed": 486,
     "status": "ok",
     "timestamp": 1704259446590,
     "user": {
      "displayName": "Akm Islam",
      "userId": "10887598172150809320"
     },
     "user_tz": 300
    },
    "id": "l-UdGe0nZ6Rx",
    "outputId": "0abd728a-ffc2-49a6-f6ee-aab8bc645cc1"
   },
   "outputs": [
    {
     "data": {
      "image/png": "[encoded data removed]",
      "text/plain": [
       "<Figure size 432x288 with 1 Axes>"
      ]
     },
     "metadata": {
      "needs_background": "light"
     },
     "output_type": "display_data"
    }
   ],
   "source": [
    "male_data=df[df['sex'] == 'Male']['tip']\n",
    "female_data=df[df['sex'] == 'Female']['tip']\n",
    "\n",
    "# the circles are outliers\n",
    "fig, ax = plt.subplots()\n",
    "ax.boxplot([male_data,female_data], labels=['Male', 'Female'])\n",
    "plt.show()\n"
   ]
  },
  {
   "cell_type": "code",
   "execution_count": null,
   "metadata": {
    "colab": {
     "base_uri": "https://localhost:8080/",
     "height": 430
    },
    "executionInfo": {
     "elapsed": 862,
     "status": "ok",
     "timestamp": 1704259447443,
     "user": {
      "displayName": "Akm Islam",
      "userId": "10887598172150809320"
     },
     "user_tz": 300
    },
    "id": "o_cC40qRxVeo",
    "outputId": "967168be-f355-4166-fbbc-cf4d29f26e77"
   },
   "outputs": [
    {
     "data": {
      "image/png": "[encoded data removed]",
      "text/plain": [
       "<Figure size 432x288 with 2 Axes>"
      ]
     },
     "metadata": {
      "needs_background": "light"
     },
     "output_type": "display_data"
    }
   ],
   "source": [
    "fig, axes = plt.subplots(1,2,sharey=True)\n",
    "axes[0].boxplot(male_data, labels=['Male'])\n",
    "axes[1].boxplot(female_data, labels=['Female'])\n",
    "plt.show()"
   ]
  },
  {
   "cell_type": "markdown",
   "metadata": {
    "id": "E3lwDg0-giWO"
   },
   "source": [
    "# Visualizing High Dimensional Data"
   ]
  },
  {
   "cell_type": "markdown",
   "metadata": {
    "id": "PBlVaGzvzQ7z"
   },
   "source": [
    "Many real-world datasets involve a large number of features or dimensions. Visualizing data in high-dimensional space is challenging, and it becomes difficult to gain insights into the structure of the data as humans are limited in their ability to visualize data in more than three dimensions. Dimensionality reduction allows for projection of high-dimensional data onto a 2D or 3D space, making it visually interpretable while retaining **important patterns and relationships**."
   ]
  },
  {
   "cell_type": "markdown",
   "metadata": {
    "id": "WXISwOZg4P_i"
   },
   "source": [
    "### t-SNE\n",
    "t-Distributed Stochastic Neighbor Embedding (t-SNE) is a data visualization technique that helps us understand and explore high-dimensional datasets in a simpler way. In simple terms, t-SNE takes a set of points in a high-dimensional space (where each dimension represents a feature) and maps them to a lower-dimensional space, often 2D or 3D, while preserving the relationships between the points as much as possible.\n",
    "\n",
    "Here's a simple example using Python and the scikit-learn library:"
   ]
  },
  {
   "cell_type": "code",
   "execution_count": 2,
   "metadata": {
    "colab": {
     "base_uri": "https://localhost:8080/",
     "height": 461
    },
    "executionInfo": {
     "elapsed": 7000,
     "status": "ok",
     "timestamp": 1726521430667,
     "user": {
      "displayName": "Yajuan LI",
      "userId": "07949580397633847884"
     },
     "user_tz": 240
    },
    "id": "1gvnf86Yzzt7",
    "outputId": "a1df218e-6649-4c03-b6c9-1cbd51676a08",
    "scrolled": true
   },
   "outputs": [
    {
     "name": "stdout",
     "output_type": "stream",
     "text": [
      "(150, 4)\n",
      "   sepal_length  sepal_width  petal_length  petal_width\n",
      "0           5.1          3.5           1.4          0.2\n",
      "1           4.9          3.0           1.4          0.2\n",
      "2           4.7          3.2           1.3          0.2\n",
      "3           4.6          3.1           1.5          0.2\n",
      "4           5.0          3.6           1.4          0.2\n"
     ]
    },
    {
     "data": {
      "image/png": "[encoded data removed]",
      "text/plain": [
       "<Figure size 600x300 with 1 Axes>"
      ]
     },
     "metadata": {},
     "output_type": "display_data"
    }
   ],
   "source": [
    "# Import necessary libraries\n",
    "import numpy as np\n",
    "import pandas as pd\n",
    "from sklearn.manifold import TSNE\n",
    "import matplotlib.pyplot as plt\n",
    "\n",
    "# Load iris dataset\n",
    "url = 'https://drive.google.com/file/d/1LtYZhrvMtT_dCRvCqS6ugRxaXWY17DhS/view?usp=sharing'\n",
    "path = 'https://drive.google.com/uc?export=download&id='+url.split('/')[-2]\n",
    "df = pd.read_csv(path)\n",
    "print(df.shape)#print data total rows, columns\n",
    "print(df.head())#print first few rows of data\n",
    "\n",
    "# Apply t-SNE for dimensionality reduction\n",
    "tsne = TSNE(n_components=2, random_state=42) # n_components specifies the number of dimensions in the reduced space (here, set to 2 for visualization)\n",
    "#t-SNE involves a stochastic (random) process.\n",
    "#The choice of number 42 is arbitrary and often used as a reference to Douglas Adams'\n",
    "#\"The Hitchhiker's Guide to the Galaxy\",\n",
    "#where 42 is \"the answer to the ultimate question of life, the universe, and everything\".\n",
    "#You can use any integer value here to seed the random number generator.\n",
    "df_tsne = tsne.fit_transform(df)\n",
    "# performs the dimensionality reduction\n",
    "\n",
    "#The output of .fit_transform(df) is a new array df_tsne,\n",
    "#where each row corresponds to a data point in df transformed into the lower-dimensional space.\n",
    "#Since n_components=2 was specified, df_tsne will have two columns,\n",
    "#representing the two dimensions of the reduced space.\n",
    "\n",
    "# Plot the t-SNE representation\n",
    "plt.figure(figsize=(6, 3))\n",
    "plt.scatter(df_tsne[:, 0], df_tsne[:, 1])\n",
    "plt.title(\"t-SNE Visualization of Iris Dataset\")\n",
    "plt.xlabel(\"t-SNE Dimension 1\")\n",
    "plt.ylabel(\"t-SNE Dimension 2\")\n",
    "plt.show()"
   ]
  },
  {
   "cell_type": "markdown",
   "metadata": {
    "id": "H-LX6qyu3rI4"
   },
   "source": [
    "### PCA\n",
    "Principal Component Analysis (PCA) is a technique used to simplify complex data by identifying and focusing on the most important patterns. It does this by finding the directions, called **principal components**, in which the data varies the most. PCA then transforms the data into a new coordinate system defined by these components. By retaining only the **most significant components**, PCA reduces the dimensionality of the data, making it more manageable without losing essential information.\n",
    "\n",
    "Here's a simple example using Python and the scikit-learn library:"
   ]
  },
  {
   "cell_type": "code",
   "execution_count": 1,
   "metadata": {
    "colab": {
     "base_uri": "https://localhost:8080/",
     "height": 461
    },
    "executionInfo": {
     "elapsed": 8045,
     "status": "ok",
     "timestamp": 1726521418177,
     "user": {
      "displayName": "Yajuan LI",
      "userId": "07949580397633847884"
     },
     "user_tz": 240
    },
    "id": "h2KLr_Qc0un8",
    "outputId": "df1bfdab-3a5c-4d10-8647-50168cb64771",
    "scrolled": true
   },
   "outputs": [
    {
     "name": "stdout",
     "output_type": "stream",
     "text": [
      "(150, 4)\n",
      "   sepal_length  sepal_width  petal_length  petal_width\n",
      "0           5.1          3.5           1.4          0.2\n",
      "1           4.9          3.0           1.4          0.2\n",
      "2           4.7          3.2           1.3          0.2\n",
      "3           4.6          3.1           1.5          0.2\n",
      "4           5.0          3.6           1.4          0.2\n"
     ]
    },
    {
     "data": {
      "image/png": "[encoded data removed]",
      "text/plain": [
       "<Figure size 600x300 with 1 Axes>"
      ]
     },
     "metadata": {},
     "output_type": "display_data"
    }
   ],
   "source": [
    "# Import necessary libraries\n",
    "import numpy as np\n",
    "\n",
    "import pandas as pd\n",
    "from sklearn.decomposition import PCA\n",
    "import matplotlib.pyplot as plt\n",
    "\n",
    "# Load iris dataset\n",
    "url = 'https://drive.google.com/file/d/1LtYZhrvMtT_dCRvCqS6ugRxaXWY17DhS/view?usp=sharing'\n",
    "path = 'https://drive.google.com/uc?export=download&id='+url.split('/')[-2]\n",
    "df = pd.read_csv(path)\n",
    "\n",
    "print(df.shape)#print data total rows, columns\n",
    "print(df.head())#print first few rows of data\n",
    "\n",
    "\n",
    "# Apply PCA for dimensionality reduction\n",
    "pca = PCA(n_components=2)  # n_components specifies the number of dimensions in the reduced space (here, set to 2 for visualization)\n",
    "df_pca = pca.fit_transform(df)\n",
    "\n",
    "# Plot the PCA representation\n",
    "plt.figure(figsize=(6, 3))\n",
    "plt.scatter(df_pca[:, 0], df_pca[:, 1])\n",
    "plt.title(\"PCA Visualization of Iris Dataset\")\n",
    "plt.xlabel(\"PCA Dimension 1\")\n",
    "plt.ylabel(\"PCA Dimension 2\")\n",
    "plt.show()\n"
   ]
  }
 ],
 "metadata": {
  "colab": {
   "collapsed_sections": [
    "eS5FAiLro1TF",
    "8KdoYl6roxFR",
    "G4oSiNbMgVQl",
    "abeXjSdvhhFN",
    "bAddbycuBFHm",
    "Eu2DcCwTBAmq",
    "0zKgsjfgA2Ro",
    "kHzuym5WAumv",
    "E3lwDg0-giWO"
   ],
   "provenance": []
  },
  "kernelspec": {
   "display_name": "Python 3 (ipykernel)",
   "language": "python",
   "name": "python3"
  },
  "language_info": {
   "codemirror_mode": {
    "name": "ipython",
    "version": 3
   },
   "file_extension": ".py",
   "mimetype": "text/x-python",
   "name": "python",
   "nbconvert_exporter": "python",
   "pygments_lexer": "ipython3",
   "version": "3.9.17"
  }
 },
 "nbformat": 4,
 "nbformat_minor": 1
}
